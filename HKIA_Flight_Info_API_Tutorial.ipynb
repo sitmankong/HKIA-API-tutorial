{
  "nbformat": 4,
  "nbformat_minor": 0,
  "metadata": {
    "colab": {
      "provenance": []
    },
    "kernelspec": {
      "name": "python3",
      "display_name": "Python 3"
    },
    "language_info": {
      "name": "python"
    }
  },
  "cells": [
    {
      "cell_type": "markdown",
      "source": [
        "# **HKIA Historical Flight Information API Tutorial**"
      ],
      "metadata": {
        "id": "NbPkvwosmTaL"
      }
    },
    {
      "cell_type": "markdown",
      "source": [
        "# Introduction\n",
        "\n",
        "This tutorial guides you through using the API to access historical flight information from Hong Kong International Airport (HKIA)\n",
        "\n",
        "* DATA.GOV.HK Website: https://data.gov.hk/en-data/dataset/aahk-team1-flight-info/resource/8f41b55c-a2ef-4963-bb25-96d8b21f3db4\n",
        "* Data Specification: https://www.hongkongairport.com/iwov-resources/misc/opendata/Flight_Information_DataSpec_en.pdf\n",
        "\n",
        "***Only data from TODAY-91 to TODAY+14 is available.***"
      ],
      "metadata": {
        "id": "Wkzto9SymivK"
      }
    },
    {
      "cell_type": "code",
      "execution_count": 200,
      "metadata": {
        "id": "yt2SzaeSf1nk"
      },
      "outputs": [],
      "source": [
        "# import necessary libraries:\n",
        "import requests\n",
        "import pandas as pd\n",
        "import json"
      ]
    },
    {
      "cell_type": "markdown",
      "source": [
        "# **Fetching Flight Information**\n",
        "\n",
        "## **The `get_json_flight_info` Function**\n",
        "This function fetches HKIA flight information for a specific date and flight type through API:\n",
        "\n",
        "### **Input**\n",
        "* **date**: The target date for the flight information in 'YYYY-MM-DD' format.\n",
        "* **arrival**: Set to True for arrival flights, False for departures.\n",
        "* **cargo**: Set to True for cargo flights, False for passenger flights.\n",
        "* **lang**: Language of the response ('en', 'zh_HK', or 'zh_CN'). Default is 'en'.\n",
        "\n",
        "### **Returns**\n",
        "* A JSON containing detailed flight information for the given parameters and date range."
      ],
      "metadata": {
        "id": "xxPkHLbAol3Y"
      }
    },
    {
      "cell_type": "code",
      "source": [
        "def get_json_flight_info(date, arrival, cargo, lang='en'):\n",
        "\n",
        "    arrival_str = 'true' if arrival else 'false'\n",
        "    cargo_str = 'true' if cargo else 'false'\n",
        "\n",
        "    url = f\"https://www.hongkongairport.com/flightinfo-rest/rest/flights/past?date={date}&arrival={arrival_str}&cargo={cargo_str}&lang={lang}\"\n",
        "\n",
        "    response = requests.get(url)\n",
        "\n",
        "    if response.status_code == 200:\n",
        "        data = response.json()\n",
        "        return data\n",
        "    else:\n",
        "        print(f\"Error: {response.status_code}\")"
      ],
      "metadata": {
        "id": "pq8rksJRU6FH"
      },
      "execution_count": 201,
      "outputs": []
    },
    {
      "cell_type": "markdown",
      "source": [
        "### **Example of Usages**"
      ],
      "metadata": {
        "id": "MItwzT-ttR_a"
      }
    },
    {
      "cell_type": "code",
      "source": [
        "# Valid\n",
        "yesterday = (pd.to_datetime('today')-pd.Timedelta('1 days')).strftime('%Y-%m-%d')\n",
        "flight_info = get_json_flight_info(date=yesterday, arrival=False, cargo=False, lang='en')\n",
        "# print(json.dumps(flight_info, indent=2))"
      ],
      "metadata": {
        "id": "J4zx46HJhLGs"
      },
      "execution_count": 202,
      "outputs": []
    },
    {
      "cell_type": "code",
      "source": [
        "# Invalid\n",
        "one_year_before = (pd.to_datetime('today')-pd.Timedelta('365 days')).strftime('%Y-%m-%d')\n",
        "flight_info = get_json_flight_info(date=one_year_before, arrival=False, cargo=False, lang='en')\n",
        "\n",
        "print(f\"https://www.hongkongairport.com/flightinfo-rest/rest/flights/past?date={one_year_before}&arrival=false&cargo=false&lang=en\")\n",
        "# \"message\": \"The combination of parameter date [2023-12-01] and span [1] is out of valid range (D-91 to D+14).\""
      ],
      "metadata": {
        "colab": {
          "base_uri": "https://localhost:8080/"
        },
        "id": "Ln02EqeErt2B",
        "outputId": "5f04c3f4-236e-44e6-8986-75ae93465f35"
      },
      "execution_count": 203,
      "outputs": [
        {
          "output_type": "stream",
          "name": "stdout",
          "text": [
            "Error: 400\n",
            "https://www.hongkongairport.com/flightinfo-rest/rest/flights/past?date=2023-03-24&arrival=false&cargo=false&lang=en\n"
          ]
        }
      ]
    },
    {
      "cell_type": "markdown",
      "source": [
        "# **Preprocessing**\n",
        "\n",
        "## **The `preprocessing` Function**\n",
        "This function preprocesses JSON flight information.\n",
        "\n",
        "### **Input**\n",
        "* `json_flight_info` returned from `get_json_flight_info` function\n",
        "* **col**:  Optional; a list of column names as strings to specify which columns to include. Defaults to \"None,\" indicating all columns are returned.\n",
        "\n",
        "### **Returns**\n",
        "* A pandas DataFrame containing detailed flight information based on `json_flight_info`"
      ],
      "metadata": {
        "id": "M0mbjjbLt3-x"
      }
    },
    {
      "cell_type": "code",
      "source": [
        "def preprocessing(json_flight_info, col=None):\n",
        "    df = pd.json_normalize(json_flight_info, 'list')\n",
        "    df.insert(loc=0, column='info_date', value=json_flight_info[0]['date'])\n",
        "    if col is not None:\n",
        "        df = df[col]\n",
        "    if 'flight' in df.columns:\n",
        "        df['flight'] = df['flight'].apply(lambda x: [f\"{flight['no']} ({flight['airline']})\" for flight in x])\n",
        "    return df"
      ],
      "metadata": {
        "id": "i5ZWTFwiiyjr"
      },
      "execution_count": 204,
      "outputs": []
    },
    {
      "cell_type": "markdown",
      "source": [
        "## **The `get_df_flight_info` Function**\n",
        "This function uses the above two function to get pandas dataframe format flight info within day ranges\n",
        "\n",
        "### **Input**\n",
        "* **start_date, end_date**: Specifies the query range ('YYYY-MM-DD').\n",
        "> *(For a single-day query, set both start_date and end_date to the same value.)*\n",
        "\n",
        "\n",
        "\n",
        "* **arrival, cargo, lang**: Same as those in `get_json_flight_info`\n",
        "\n",
        "### **Returns**\n",
        "* A pandas DataFrame containing detailed flight information for the given parameters and date range."
      ],
      "metadata": {
        "id": "t5PoPBidweWA"
      }
    },
    {
      "cell_type": "code",
      "source": [
        "def get_df_flight_info(start_date, end_date, arrival, cargo, lang='en', col=None):\n",
        "\n",
        "    date_list = pd.date_range(start=start_date, end=end_date).strftime('%Y-%m-%d').tolist()\n",
        "\n",
        "    df_list = []\n",
        "    for date in date_list:\n",
        "        json_flight_info = get_json_flight_info(date, arrival, cargo, lang)\n",
        "        df = preprocessing(json_flight_info, col)\n",
        "        df_list += [df]\n",
        "\n",
        "    return pd.concat(df_list).reset_index()"
      ],
      "metadata": {
        "id": "d1Kw8H1_BW21"
      },
      "execution_count": 205,
      "outputs": []
    },
    {
      "cell_type": "markdown",
      "source": [
        "### **Example of Usages**"
      ],
      "metadata": {
        "id": "4Q4p3biGzC1p"
      }
    },
    {
      "cell_type": "code",
      "source": [
        "# single-day query\n",
        "yesterday = (pd.to_datetime('today')-pd.Timedelta('1 days')).strftime('%Y-%m-%d')\n",
        "flight_info = get_df_flight_info(start_date=yesterday, end_date=yesterday, arrival=False, cargo=False)\n",
        "flight_info.head()"
      ],
      "metadata": {
        "id": "p_9PqPB_S2BH",
        "colab": {
          "base_uri": "https://localhost:8080/",
          "height": 206
        },
        "outputId": "d58ccf03-ed0a-49c1-cd04-af6bf5f0dae9"
      },
      "execution_count": 206,
      "outputs": [
        {
          "output_type": "execute_result",
          "data": {
            "text/plain": [
              "   index   info_date   time  \\\n",
              "0      0  2024-03-21  23:35   \n",
              "1      1  2024-03-21  23:45   \n",
              "2      2  2024-03-21  00:05   \n",
              "3      3  2024-03-21  00:15   \n",
              "4      4  2024-03-21  00:15   \n",
              "\n",
              "                                              flight                  status  \\\n",
              "0                                     [CX 255 (CPA)]  Dep 00:04 (22/03/2024)   \n",
              "1                                     [ET 645 (ETH)]  Dep 00:07 (22/03/2024)   \n",
              "2                                     [CX 261 (CPA)]               Dep 00:15   \n",
              "3                      [CX 289 (CPA), LH 7015 (DLH)]               Dep 00:22   \n",
              "4  [CX 880 (CPA), MH 9190 (MAS), OM 5880 (MGL), A...               Dep 00:24   \n",
              "\n",
              "  statusCode destination terminal aisle gate  \n",
              "0       None       [LHR]       T1    BC    2  \n",
              "1       None       [ADD]       T1     D   31  \n",
              "2       None       [CDG]       T1     A   49  \n",
              "3       None       [FRA]       T1     A   66  \n",
              "4       None       [LAX]       T1    BC    9  "
            ],
            "text/html": [
              "\n",
              "  <div id=\"df-f12e5bd6-f0c9-436e-971d-2148edd1e53d\" class=\"colab-df-container\">\n",
              "    <div>\n",
              "<style scoped>\n",
              "    .dataframe tbody tr th:only-of-type {\n",
              "        vertical-align: middle;\n",
              "    }\n",
              "\n",
              "    .dataframe tbody tr th {\n",
              "        vertical-align: top;\n",
              "    }\n",
              "\n",
              "    .dataframe thead th {\n",
              "        text-align: right;\n",
              "    }\n",
              "</style>\n",
              "<table border=\"1\" class=\"dataframe\">\n",
              "  <thead>\n",
              "    <tr style=\"text-align: right;\">\n",
              "      <th></th>\n",
              "      <th>index</th>\n",
              "      <th>info_date</th>\n",
              "      <th>time</th>\n",
              "      <th>flight</th>\n",
              "      <th>status</th>\n",
              "      <th>statusCode</th>\n",
              "      <th>destination</th>\n",
              "      <th>terminal</th>\n",
              "      <th>aisle</th>\n",
              "      <th>gate</th>\n",
              "    </tr>\n",
              "  </thead>\n",
              "  <tbody>\n",
              "    <tr>\n",
              "      <th>0</th>\n",
              "      <td>0</td>\n",
              "      <td>2024-03-21</td>\n",
              "      <td>23:35</td>\n",
              "      <td>[CX 255 (CPA)]</td>\n",
              "      <td>Dep 00:04 (22/03/2024)</td>\n",
              "      <td>None</td>\n",
              "      <td>[LHR]</td>\n",
              "      <td>T1</td>\n",
              "      <td>BC</td>\n",
              "      <td>2</td>\n",
              "    </tr>\n",
              "    <tr>\n",
              "      <th>1</th>\n",
              "      <td>1</td>\n",
              "      <td>2024-03-21</td>\n",
              "      <td>23:45</td>\n",
              "      <td>[ET 645 (ETH)]</td>\n",
              "      <td>Dep 00:07 (22/03/2024)</td>\n",
              "      <td>None</td>\n",
              "      <td>[ADD]</td>\n",
              "      <td>T1</td>\n",
              "      <td>D</td>\n",
              "      <td>31</td>\n",
              "    </tr>\n",
              "    <tr>\n",
              "      <th>2</th>\n",
              "      <td>2</td>\n",
              "      <td>2024-03-21</td>\n",
              "      <td>00:05</td>\n",
              "      <td>[CX 261 (CPA)]</td>\n",
              "      <td>Dep 00:15</td>\n",
              "      <td>None</td>\n",
              "      <td>[CDG]</td>\n",
              "      <td>T1</td>\n",
              "      <td>A</td>\n",
              "      <td>49</td>\n",
              "    </tr>\n",
              "    <tr>\n",
              "      <th>3</th>\n",
              "      <td>3</td>\n",
              "      <td>2024-03-21</td>\n",
              "      <td>00:15</td>\n",
              "      <td>[CX 289 (CPA), LH 7015 (DLH)]</td>\n",
              "      <td>Dep 00:22</td>\n",
              "      <td>None</td>\n",
              "      <td>[FRA]</td>\n",
              "      <td>T1</td>\n",
              "      <td>A</td>\n",
              "      <td>66</td>\n",
              "    </tr>\n",
              "    <tr>\n",
              "      <th>4</th>\n",
              "      <td>4</td>\n",
              "      <td>2024-03-21</td>\n",
              "      <td>00:15</td>\n",
              "      <td>[CX 880 (CPA), MH 9190 (MAS), OM 5880 (MGL), A...</td>\n",
              "      <td>Dep 00:24</td>\n",
              "      <td>None</td>\n",
              "      <td>[LAX]</td>\n",
              "      <td>T1</td>\n",
              "      <td>BC</td>\n",
              "      <td>9</td>\n",
              "    </tr>\n",
              "  </tbody>\n",
              "</table>\n",
              "</div>\n",
              "    <div class=\"colab-df-buttons\">\n",
              "\n",
              "  <div class=\"colab-df-container\">\n",
              "    <button class=\"colab-df-convert\" onclick=\"convertToInteractive('df-f12e5bd6-f0c9-436e-971d-2148edd1e53d')\"\n",
              "            title=\"Convert this dataframe to an interactive table.\"\n",
              "            style=\"display:none;\">\n",
              "\n",
              "  <svg xmlns=\"http://www.w3.org/2000/svg\" height=\"24px\" viewBox=\"0 -960 960 960\">\n",
              "    <path d=\"M120-120v-720h720v720H120Zm60-500h600v-160H180v160Zm220 220h160v-160H400v160Zm0 220h160v-160H400v160ZM180-400h160v-160H180v160Zm440 0h160v-160H620v160ZM180-180h160v-160H180v160Zm440 0h160v-160H620v160Z\"/>\n",
              "  </svg>\n",
              "    </button>\n",
              "\n",
              "  <style>\n",
              "    .colab-df-container {\n",
              "      display:flex;\n",
              "      gap: 12px;\n",
              "    }\n",
              "\n",
              "    .colab-df-convert {\n",
              "      background-color: #E8F0FE;\n",
              "      border: none;\n",
              "      border-radius: 50%;\n",
              "      cursor: pointer;\n",
              "      display: none;\n",
              "      fill: #1967D2;\n",
              "      height: 32px;\n",
              "      padding: 0 0 0 0;\n",
              "      width: 32px;\n",
              "    }\n",
              "\n",
              "    .colab-df-convert:hover {\n",
              "      background-color: #E2EBFA;\n",
              "      box-shadow: 0px 1px 2px rgba(60, 64, 67, 0.3), 0px 1px 3px 1px rgba(60, 64, 67, 0.15);\n",
              "      fill: #174EA6;\n",
              "    }\n",
              "\n",
              "    .colab-df-buttons div {\n",
              "      margin-bottom: 4px;\n",
              "    }\n",
              "\n",
              "    [theme=dark] .colab-df-convert {\n",
              "      background-color: #3B4455;\n",
              "      fill: #D2E3FC;\n",
              "    }\n",
              "\n",
              "    [theme=dark] .colab-df-convert:hover {\n",
              "      background-color: #434B5C;\n",
              "      box-shadow: 0px 1px 3px 1px rgba(0, 0, 0, 0.15);\n",
              "      filter: drop-shadow(0px 1px 2px rgba(0, 0, 0, 0.3));\n",
              "      fill: #FFFFFF;\n",
              "    }\n",
              "  </style>\n",
              "\n",
              "    <script>\n",
              "      const buttonEl =\n",
              "        document.querySelector('#df-f12e5bd6-f0c9-436e-971d-2148edd1e53d button.colab-df-convert');\n",
              "      buttonEl.style.display =\n",
              "        google.colab.kernel.accessAllowed ? 'block' : 'none';\n",
              "\n",
              "      async function convertToInteractive(key) {\n",
              "        const element = document.querySelector('#df-f12e5bd6-f0c9-436e-971d-2148edd1e53d');\n",
              "        const dataTable =\n",
              "          await google.colab.kernel.invokeFunction('convertToInteractive',\n",
              "                                                    [key], {});\n",
              "        if (!dataTable) return;\n",
              "\n",
              "        const docLinkHtml = 'Like what you see? Visit the ' +\n",
              "          '<a target=\"_blank\" href=https://colab.research.google.com/notebooks/data_table.ipynb>data table notebook</a>'\n",
              "          + ' to learn more about interactive tables.';\n",
              "        element.innerHTML = '';\n",
              "        dataTable['output_type'] = 'display_data';\n",
              "        await google.colab.output.renderOutput(dataTable, element);\n",
              "        const docLink = document.createElement('div');\n",
              "        docLink.innerHTML = docLinkHtml;\n",
              "        element.appendChild(docLink);\n",
              "      }\n",
              "    </script>\n",
              "  </div>\n",
              "\n",
              "\n",
              "<div id=\"df-834f2819-81bf-4eef-8fcb-7e10e53248dd\">\n",
              "  <button class=\"colab-df-quickchart\" onclick=\"quickchart('df-834f2819-81bf-4eef-8fcb-7e10e53248dd')\"\n",
              "            title=\"Suggest charts\"\n",
              "            style=\"display:none;\">\n",
              "\n",
              "<svg xmlns=\"http://www.w3.org/2000/svg\" height=\"24px\"viewBox=\"0 0 24 24\"\n",
              "     width=\"24px\">\n",
              "    <g>\n",
              "        <path d=\"M19 3H5c-1.1 0-2 .9-2 2v14c0 1.1.9 2 2 2h14c1.1 0 2-.9 2-2V5c0-1.1-.9-2-2-2zM9 17H7v-7h2v7zm4 0h-2V7h2v10zm4 0h-2v-4h2v4z\"/>\n",
              "    </g>\n",
              "</svg>\n",
              "  </button>\n",
              "\n",
              "<style>\n",
              "  .colab-df-quickchart {\n",
              "      --bg-color: #E8F0FE;\n",
              "      --fill-color: #1967D2;\n",
              "      --hover-bg-color: #E2EBFA;\n",
              "      --hover-fill-color: #174EA6;\n",
              "      --disabled-fill-color: #AAA;\n",
              "      --disabled-bg-color: #DDD;\n",
              "  }\n",
              "\n",
              "  [theme=dark] .colab-df-quickchart {\n",
              "      --bg-color: #3B4455;\n",
              "      --fill-color: #D2E3FC;\n",
              "      --hover-bg-color: #434B5C;\n",
              "      --hover-fill-color: #FFFFFF;\n",
              "      --disabled-bg-color: #3B4455;\n",
              "      --disabled-fill-color: #666;\n",
              "  }\n",
              "\n",
              "  .colab-df-quickchart {\n",
              "    background-color: var(--bg-color);\n",
              "    border: none;\n",
              "    border-radius: 50%;\n",
              "    cursor: pointer;\n",
              "    display: none;\n",
              "    fill: var(--fill-color);\n",
              "    height: 32px;\n",
              "    padding: 0;\n",
              "    width: 32px;\n",
              "  }\n",
              "\n",
              "  .colab-df-quickchart:hover {\n",
              "    background-color: var(--hover-bg-color);\n",
              "    box-shadow: 0 1px 2px rgba(60, 64, 67, 0.3), 0 1px 3px 1px rgba(60, 64, 67, 0.15);\n",
              "    fill: var(--button-hover-fill-color);\n",
              "  }\n",
              "\n",
              "  .colab-df-quickchart-complete:disabled,\n",
              "  .colab-df-quickchart-complete:disabled:hover {\n",
              "    background-color: var(--disabled-bg-color);\n",
              "    fill: var(--disabled-fill-color);\n",
              "    box-shadow: none;\n",
              "  }\n",
              "\n",
              "  .colab-df-spinner {\n",
              "    border: 2px solid var(--fill-color);\n",
              "    border-color: transparent;\n",
              "    border-bottom-color: var(--fill-color);\n",
              "    animation:\n",
              "      spin 1s steps(1) infinite;\n",
              "  }\n",
              "\n",
              "  @keyframes spin {\n",
              "    0% {\n",
              "      border-color: transparent;\n",
              "      border-bottom-color: var(--fill-color);\n",
              "      border-left-color: var(--fill-color);\n",
              "    }\n",
              "    20% {\n",
              "      border-color: transparent;\n",
              "      border-left-color: var(--fill-color);\n",
              "      border-top-color: var(--fill-color);\n",
              "    }\n",
              "    30% {\n",
              "      border-color: transparent;\n",
              "      border-left-color: var(--fill-color);\n",
              "      border-top-color: var(--fill-color);\n",
              "      border-right-color: var(--fill-color);\n",
              "    }\n",
              "    40% {\n",
              "      border-color: transparent;\n",
              "      border-right-color: var(--fill-color);\n",
              "      border-top-color: var(--fill-color);\n",
              "    }\n",
              "    60% {\n",
              "      border-color: transparent;\n",
              "      border-right-color: var(--fill-color);\n",
              "    }\n",
              "    80% {\n",
              "      border-color: transparent;\n",
              "      border-right-color: var(--fill-color);\n",
              "      border-bottom-color: var(--fill-color);\n",
              "    }\n",
              "    90% {\n",
              "      border-color: transparent;\n",
              "      border-bottom-color: var(--fill-color);\n",
              "    }\n",
              "  }\n",
              "</style>\n",
              "\n",
              "  <script>\n",
              "    async function quickchart(key) {\n",
              "      const quickchartButtonEl =\n",
              "        document.querySelector('#' + key + ' button');\n",
              "      quickchartButtonEl.disabled = true;  // To prevent multiple clicks.\n",
              "      quickchartButtonEl.classList.add('colab-df-spinner');\n",
              "      try {\n",
              "        const charts = await google.colab.kernel.invokeFunction(\n",
              "            'suggestCharts', [key], {});\n",
              "      } catch (error) {\n",
              "        console.error('Error during call to suggestCharts:', error);\n",
              "      }\n",
              "      quickchartButtonEl.classList.remove('colab-df-spinner');\n",
              "      quickchartButtonEl.classList.add('colab-df-quickchart-complete');\n",
              "    }\n",
              "    (() => {\n",
              "      let quickchartButtonEl =\n",
              "        document.querySelector('#df-834f2819-81bf-4eef-8fcb-7e10e53248dd button');\n",
              "      quickchartButtonEl.style.display =\n",
              "        google.colab.kernel.accessAllowed ? 'block' : 'none';\n",
              "    })();\n",
              "  </script>\n",
              "</div>\n",
              "\n",
              "    </div>\n",
              "  </div>\n"
            ],
            "application/vnd.google.colaboratory.intrinsic+json": {
              "type": "dataframe",
              "variable_name": "flight_info",
              "repr_error": "Out of range float values are not JSON compliant: nan"
            }
          },
          "metadata": {},
          "execution_count": 206
        }
      ]
    },
    {
      "cell_type": "markdown",
      "source": [
        "# **Visualizing Flight Data**\n",
        "With the data processed, we can now visualize it to uncover insights. For example, to visualize the count of flights by origin or destination:\n",
        "\n",
        "## Top `N` `locations` by Flight Counts within 30 Days"
      ],
      "metadata": {
        "id": "CHn3xGo5zz0d"
      }
    },
    {
      "cell_type": "code",
      "source": [
        "N = 20\n",
        "today = pd.to_datetime('today').strftime('%Y-%m-%d')\n",
        "thirty_days_before = (pd.to_datetime('today')-pd.Timedelta('30 days')).strftime('%Y-%m-%d')\n",
        "df = get_df_flight_info(start_date=thirty_days_before, end_date=today, arrival=False, cargo=False, col=[\"destination\"])\n",
        "\n",
        "if 'origin' in df.columns:\n",
        "    location = 'Origin'\n",
        "    info = df['origin']\n",
        "\n",
        "if 'destination' in df.columns:\n",
        "    location = 'Destination'\n",
        "    info = df['destination']\n",
        "\n",
        "counts = info.explode().value_counts()[:N]\n",
        "counts.plot.bar(title=f'Top {N} Flight Counts by {location}')"
      ],
      "metadata": {
        "colab": {
          "base_uri": "https://localhost:8080/",
          "height": 487
        },
        "id": "8r1tDKLBkX32",
        "outputId": "063fd7ab-a9be-4fec-d0ef-adf42a3a2204"
      },
      "execution_count": 207,
      "outputs": [
        {
          "output_type": "execute_result",
          "data": {
            "text/plain": [
              "<Axes: title={'center': 'Top 20 Flight Counts by Destination'}>"
            ]
          },
          "metadata": {},
          "execution_count": 207
        },
        {
          "output_type": "display_data",
          "data": {
            "text/plain": [
              "<Figure size 640x480 with 1 Axes>"
            ],
            "image/png": "[encoded data removed]"
          },
          "metadata": {}
        }
      ]
    }
  ]
}